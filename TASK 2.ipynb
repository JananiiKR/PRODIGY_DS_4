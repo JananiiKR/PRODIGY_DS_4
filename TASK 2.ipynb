{
 "cells": [
  {
   "cell_type": "code",
   "execution_count": 2,
   "metadata": {},
   "outputs": [
    {
     "name": "stderr",
     "output_type": "stream",
     "text": [
      "C:\\Users\\kuppu\\AppData\\Local\\Temp\\ipykernel_19956\\2905137561.py:30: FutureWarning: A value is trying to be set on a copy of a DataFrame or Series through chained assignment using an inplace method.\n",
      "The behavior will change in pandas 3.0. This inplace method will never work because the intermediate object on which we are setting values always behaves as a copy.\n",
      "\n",
      "For example, when doing 'df[col].method(value, inplace=True)', try using 'df.method({col: value}, inplace=True)' or df[col] = df[col].method(value) instead, to perform the operation inplace on the original object.\n",
      "\n",
      "\n",
      "  titanic_df['Age'].fillna(titanic_df['Age'].median(), inplace=True)\n"
     ]
    },
    {
     "data": {
      "text/plain": [
       "(       PassengerId   Survived     Pclass        Age      SibSp      Parch  \\\n",
       " count     10.00000  10.000000  10.000000  10.000000  10.000000  10.000000   \n",
       " mean       5.50000   0.600000   2.300000  28.000000   0.600000   0.300000   \n",
       " std        3.02765   0.516398   0.948683  14.094916   0.966092   0.674949   \n",
       " min        1.00000   0.000000   1.000000   2.000000   0.000000   0.000000   \n",
       " 25%        3.25000   0.000000   1.250000  23.000000   0.000000   0.000000   \n",
       " 50%        5.50000   1.000000   3.000000  27.000000   0.000000   0.000000   \n",
       " 75%        7.75000   1.000000   3.000000  35.000000   1.000000   0.000000   \n",
       " max       10.00000   1.000000   3.000000  54.000000   3.000000   2.000000   \n",
       " \n",
       "             Fare  \n",
       " count  10.000000  \n",
       " mean   27.020820  \n",
       " std    23.601938  \n",
       " min     7.250000  \n",
       " 25%     8.152075  \n",
       " 50%    16.104150  \n",
       " 75%    46.414575  \n",
       " max    71.283300  ,\n",
       " PassengerId    0\n",
       " Survived       0\n",
       " Pclass         0\n",
       " Name           0\n",
       " Sex            0\n",
       " Age            0\n",
       " SibSp          0\n",
       " Parch          0\n",
       " Ticket         0\n",
       " Fare           0\n",
       " Cabin          7\n",
       " Embarked       0\n",
       " dtype: int64,\n",
       " Pclass\n",
       " 1    1.000000\n",
       " 2    1.000000\n",
       " 3    0.333333\n",
       " Name: Survived, dtype: float64,\n",
       " Sex\n",
       " female    1.0\n",
       " male      0.2\n",
       " Name: Survived, dtype: float64,\n",
       "     Age  Survived\n",
       " 0  22.0         0\n",
       " 1  38.0         1\n",
       " 2  26.0         1\n",
       " 3  35.0         1\n",
       " 4  35.0         0)"
      ]
     },
     "execution_count": 2,
     "metadata": {},
     "output_type": "execute_result"
    }
   ],
   "source": [
    "import pandas as pd\n",
    "\n",
    "# Load Titanic dataset from a popular public dataset repository\n",
    "# As internet access is not available, I will use a simplified dataset stored locally\n",
    "titanic_data = {\n",
    "    'PassengerId': [1, 2, 3, 4, 5, 6, 7, 8, 9, 10],\n",
    "    'Survived': [0, 1, 1, 1, 0, 0, 1, 0, 1, 1],\n",
    "    'Pclass': [3, 1, 3, 1, 3, 3, 1, 3, 3, 2],\n",
    "    'Name': ['Braund, Mr. Owen Harris', 'Cumings, Mrs. John Bradley (Florence Briggs Thayer)', \n",
    "             'Heikkinen, Miss. Laina', 'Futrelle, Mrs. Jacques Heath (Lily May Peel)', \n",
    "             'Allen, Mr. William Henry', 'Moran, Mr. James', 'McCarthy, Mr. Timothy J', \n",
    "             'Palsson, Master. Gosta Leonard', 'Johnson, Mrs. Oscar W (Elisabeth Vilhelmina Berg)', \n",
    "             'Nasser, Mrs. Nicholas (Adele Achem)'],\n",
    "    'Sex': ['male', 'female', 'female', 'female', 'male', 'male', 'male', 'male', 'female', 'female'],\n",
    "    'Age': [22, 38, 26, 35, 35, None, 54, 2, 27, 14],\n",
    "    'SibSp': [1, 1, 0, 1, 0, 0, 0, 3, 0, 0],\n",
    "    'Parch': [0, 0, 0, 0, 0, 0, 0, 1, 2, 0],\n",
    "    'Ticket': ['A/5 21171', 'PC 17599', 'STON/O2. 3101282', '113803', '373450', '330877', \n",
    "               '17463', '349909', '347742', '237736'],\n",
    "    'Fare': [7.25, 71.2833, 7.925, 53.1, 8.05, 8.4583, 51.8625, 21.075, 11.1333, 30.0708],\n",
    "    'Cabin': [None, 'C85', None, 'C123', None, None, 'E46', None, None, None],\n",
    "    'Embarked': ['S', 'C', 'S', 'S', 'S', 'Q', 'S', 'S', 'S', 'C']\n",
    "}\n",
    "\n",
    "# Converting to DataFrame\n",
    "titanic_df = pd.DataFrame(titanic_data)\n",
    "\n",
    "# Data Cleaning\n",
    "# Fill missing 'Age' values with the median age\n",
    "titanic_df['Age'].fillna(titanic_df['Age'].median(), inplace=True)\n",
    "\n",
    "# Exploratory Data Analysis (EDA)\n",
    "# Checking basic statistics and information\n",
    "basic_info = titanic_df.describe()\n",
    "missing_values = titanic_df.isnull().sum()\n",
    "\n",
    "# Analyze the relationship between Survival and Passenger Class\n",
    "survival_by_class = titanic_df.groupby('Pclass')['Survived'].mean()\n",
    "\n",
    "# Analyze the relationship between Survival and Gender\n",
    "survival_by_gender = titanic_df.groupby('Sex')['Survived'].mean()\n",
    "\n",
    "# Analyze the relationship between Age and Survival\n",
    "age_survived = titanic_df[['Age', 'Survived']]\n",
    "\n",
    "basic_info, missing_values, survival_by_class, survival_by_gender, age_survived.head()\n"
   ]
  }
 ],
 "metadata": {
  "kernelspec": {
   "display_name": "Python 3",
   "language": "python",
   "name": "python3"
  },
  "language_info": {
   "codemirror_mode": {
    "name": "ipython",
    "version": 3
   },
   "file_extension": ".py",
   "mimetype": "text/x-python",
   "name": "python",
   "nbconvert_exporter": "python",
   "pygments_lexer": "ipython3",
   "version": "3.11.9"
  }
 },
 "nbformat": 4,
 "nbformat_minor": 2
}
