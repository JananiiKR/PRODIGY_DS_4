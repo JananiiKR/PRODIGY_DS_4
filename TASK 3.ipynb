{
 "cells": [
  {
   "cell_type": "code",
   "execution_count": 10,
   "metadata": {},
   "outputs": [
    {
     "name": "stderr",
     "output_type": "stream",
     "text": [
      "C:\\Users\\kuppu\\AppData\\Local\\Packages\\PythonSoftwareFoundation.Python.3.11_qbz5n2kfra8p0\\LocalCache\\local-packages\\Python311\\site-packages\\sklearn\\metrics\\_classification.py:1531: UndefinedMetricWarning: Precision is ill-defined and being set to 0.0 in labels with no predicted samples. Use `zero_division` parameter to control this behavior.\n",
      "  _warn_prf(average, modifier, f\"{metric.capitalize()} is\", len(result))\n",
      "C:\\Users\\kuppu\\AppData\\Local\\Packages\\PythonSoftwareFoundation.Python.3.11_qbz5n2kfra8p0\\LocalCache\\local-packages\\Python311\\site-packages\\sklearn\\metrics\\_classification.py:1531: UndefinedMetricWarning: Recall is ill-defined and being set to 0.0 in labels with no true samples. Use `zero_division` parameter to control this behavior.\n",
      "  _warn_prf(average, modifier, f\"{metric.capitalize()} is\", len(result))\n",
      "C:\\Users\\kuppu\\AppData\\Local\\Packages\\PythonSoftwareFoundation.Python.3.11_qbz5n2kfra8p0\\LocalCache\\local-packages\\Python311\\site-packages\\sklearn\\metrics\\_classification.py:1531: UndefinedMetricWarning: Precision is ill-defined and being set to 0.0 in labels with no predicted samples. Use `zero_division` parameter to control this behavior.\n",
      "  _warn_prf(average, modifier, f\"{metric.capitalize()} is\", len(result))\n",
      "C:\\Users\\kuppu\\AppData\\Local\\Packages\\PythonSoftwareFoundation.Python.3.11_qbz5n2kfra8p0\\LocalCache\\local-packages\\Python311\\site-packages\\sklearn\\metrics\\_classification.py:1531: UndefinedMetricWarning: Recall is ill-defined and being set to 0.0 in labels with no true samples. Use `zero_division` parameter to control this behavior.\n",
      "  _warn_prf(average, modifier, f\"{metric.capitalize()} is\", len(result))\n",
      "C:\\Users\\kuppu\\AppData\\Local\\Packages\\PythonSoftwareFoundation.Python.3.11_qbz5n2kfra8p0\\LocalCache\\local-packages\\Python311\\site-packages\\sklearn\\metrics\\_classification.py:1531: UndefinedMetricWarning: Precision is ill-defined and being set to 0.0 in labels with no predicted samples. Use `zero_division` parameter to control this behavior.\n",
      "  _warn_prf(average, modifier, f\"{metric.capitalize()} is\", len(result))\n",
      "C:\\Users\\kuppu\\AppData\\Local\\Packages\\PythonSoftwareFoundation.Python.3.11_qbz5n2kfra8p0\\LocalCache\\local-packages\\Python311\\site-packages\\sklearn\\metrics\\_classification.py:1531: UndefinedMetricWarning: Recall is ill-defined and being set to 0.0 in labels with no true samples. Use `zero_division` parameter to control this behavior.\n",
      "  _warn_prf(average, modifier, f\"{metric.capitalize()} is\", len(result))\n"
     ]
    },
    {
     "data": {
      "text/plain": [
       "(0.0,\n",
       " '              precision    recall  f1-score   support\\n\\n           0       0.00      0.00      0.00       0.0\\n           1       0.00      0.00      0.00       3.0\\n\\n    accuracy                           0.00       3.0\\n   macro avg       0.00      0.00      0.00       3.0\\nweighted avg       0.00      0.00      0.00       3.0\\n')"
      ]
     },
     "execution_count": 10,
     "metadata": {},
     "output_type": "execute_result"
    }
   ],
   "source": [
    "from sklearn.model_selection import train_test_split\n",
    "from sklearn.tree import DecisionTreeClassifier\n",
    "from sklearn.metrics import accuracy_score, classification_report\n",
    "import numpy as np\n",
    "\n",
    "# Simulated Bank Marketing Dataset\n",
    "# Features: 'age', 'job', 'marital', 'education', 'balance', 'housing', 'loan', 'contact', 'campaign'\n",
    "# Target: 'purchased' (1: Yes, 0: No)\n",
    "bank_data = {\n",
    "    'age': [25, 45, 35, 50, 23, 30, 29, 60, 28, 48],\n",
    "    'job': ['admin.', 'technician', 'services', 'admin.', 'student', 'management', 'blue-collar', 'retired', 'technician', 'services'],\n",
    "    'marital': ['married', 'single', 'single', 'married', 'single', 'single', 'married', 'married', 'single', 'divorced'],\n",
    "    'education': ['secondary', 'tertiary', 'secondary', 'tertiary', 'primary', 'tertiary', 'secondary', 'tertiary', 'tertiary', 'secondary'],\n",
    "    'balance': [1000, 1500, 200, 5000, 100, 1200, 350, 6000, 1200, 800],\n",
    "    'housing': ['yes', 'yes', 'no', 'yes', 'no', 'yes', 'no', 'no', 'yes', 'yes'],\n",
    "    'loan': ['no', 'no', 'yes', 'no', 'yes', 'no', 'no', 'no', 'yes', 'no'],\n",
    "    'contact': ['cellular', 'cellular', 'telephone', 'cellular', 'telephone', 'cellular', 'cellular', 'telephone', 'telephone', 'cellular'],\n",
    "    'campaign': [1, 3, 1, 2, 2, 3, 4, 1, 2, 2],\n",
    "    'purchased': [0, 1, 0, 1, 0, 1, 0, 1, 1, 0]\n",
    "}\n",
    "\n",
    "# Converting to DataFrame\n",
    "bank_df = pd.DataFrame(bank_data)\n",
    "\n",
    "# Encoding categorical variables\n",
    "bank_df_encoded = pd.get_dummies(bank_df, drop_first=True)\n",
    "\n",
    "# Separating features and target\n",
    "X = bank_df_encoded.drop('purchased', axis=1)\n",
    "y = bank_df_encoded['purchased']\n",
    "\n",
    "# Splitting data into training and testing sets\n",
    "X_train, X_test, y_train, y_test = train_test_split(X, y, test_size=0.3, random_state=42)\n",
    "\n",
    "# Building the Decision Tree Classifier\n",
    "dt_classifier = DecisionTreeClassifier(random_state=42)\n",
    "dt_classifier.fit(X_train, y_train)\n",
    "\n",
    "# Predictions\n",
    "y_pred = dt_classifier.predict(X_test)\n",
    "\n",
    "# Evaluating the model\n",
    "accuracy = accuracy_score(y_test, y_pred)\n",
    "classification_rep = classification_report(y_test, y_pred)\n",
    "\n",
    "accuracy, classification_rep\n"
   ]
  },
  {
   "cell_type": "code",
   "execution_count": 7,
   "metadata": {},
   "outputs": [
    {
     "data": {
      "text/plain": [
       "(0.3333333333333333,\n",
       " '              precision    recall  f1-score   support\\n\\n           0       0.00      0.00      0.00         1\\n           1       0.67      0.40      0.50         5\\n\\n    accuracy                           0.33         6\\n   macro avg       0.33      0.20      0.25         6\\nweighted avg       0.56      0.33      0.42         6\\n')"
      ]
     },
     "execution_count": 7,
     "metadata": {},
     "output_type": "execute_result"
    }
   ],
   "source": [
    "# Let's modify the dataset to ensure we have a sufficient number of samples for both training and testing.\n",
    "\n",
    "# Larger Bank Marketing dataset (simulated for this example)\n",
    "bank_data = {\n",
    "    'age': [25, 45, 35, 50, 23, 30, 29, 60, 28, 48, 40, 22, 33, 27, 31, 58, 26, 37, 55, 32],\n",
    "    'job': ['admin.', 'technician', 'services', 'admin.', 'student', 'management', 'blue-collar', 'retired',\n",
    "            'technician', 'services', 'admin.', 'management', 'services', 'technician', 'management', 'retired',\n",
    "            'admin.', 'management', 'services', 'technician'],\n",
    "    'marital': ['married', 'single', 'single', 'married', 'single', 'single', 'married', 'married',\n",
    "                'single', 'divorced', 'married', 'married', 'single', 'single', 'married', 'married',\n",
    "                'single', 'married', 'single', 'single'],\n",
    "    'education': ['secondary', 'tertiary', 'secondary', 'tertiary', 'primary', 'tertiary', 'secondary', 'tertiary',\n",
    "                  'tertiary', 'secondary', 'secondary', 'tertiary', 'primary', 'secondary', 'tertiary', 'tertiary',\n",
    "                  'secondary', 'tertiary', 'secondary', 'tertiary'],\n",
    "    'balance': [1000, 1500, 200, 5000, 100, 1200, 350, 6000, 1200, 800, 1800, 1100, 300, 900, 1700, 4500, 700, 2600, 600, 1400],\n",
    "    'housing': ['yes', 'yes', 'no', 'yes', 'no', 'yes', 'no', 'no', 'yes', 'yes', 'no', 'yes', 'yes', 'no', 'yes', 'no',\n",
    "                'yes', 'no', 'yes', 'yes'],\n",
    "    'loan': ['no', 'no', 'yes', 'no', 'yes', 'no', 'no', 'no', 'yes', 'no', 'no', 'yes', 'yes', 'no', 'no', 'no',\n",
    "             'no', 'no', 'yes', 'yes'],\n",
    "    'contact': ['cellular', 'cellular', 'telephone', 'cellular', 'telephone', 'cellular', 'cellular', 'telephone',\n",
    "                'telephone', 'cellular', 'telephone', 'cellular', 'telephone', 'cellular', 'cellular', 'telephone',\n",
    "                'telephone', 'cellular', 'telephone', 'cellular'],\n",
    "    'campaign': [1, 3, 1, 2, 2, 3, 4, 1, 2, 2, 3, 1, 1, 2, 4, 3, 1, 3, 1, 2],\n",
    "    'purchased': [0, 1, 0, 1, 0, 1, 0, 1, 1, 0, 1, 1, 0, 1, 1, 1, 0, 1, 1, 0]\n",
    "}\n",
    "\n",
    "# Converting to DataFrame\n",
    "bank_df = pd.DataFrame(bank_data)\n",
    "\n",
    "# Encoding categorical variables\n",
    "bank_df_encoded = pd.get_dummies(bank_df, drop_first=True)\n",
    "\n",
    "# Separating features and target\n",
    "X = bank_df_encoded.drop('purchased', axis=1)\n",
    "y = bank_df_encoded['purchased']\n",
    "\n",
    "# Splitting data into training and testing sets\n",
    "X_train, X_test, y_train, y_test = train_test_split(X, y, test_size=0.3, random_state=42)\n",
    "\n",
    "# Building the Decision Tree Classifier\n",
    "dt_classifier = DecisionTreeClassifier(random_state=42)\n",
    "dt_classifier.fit(X_train, y_train)\n",
    "\n",
    "# Predictions\n",
    "y_pred = dt_classifier.predict(X_test)\n",
    "\n",
    "# Evaluating the model\n",
    "accuracy = accuracy_score(y_test, y_pred)\n",
    "classification_rep = classification_report(y_test, y_pred)\n",
    "\n",
    "accuracy, classification_rep\n"
   ]
  }
 ],
 "metadata": {
  "kernelspec": {
   "display_name": "Python 3",
   "language": "python",
   "name": "python3"
  },
  "language_info": {
   "codemirror_mode": {
    "name": "ipython",
    "version": 3
   },
   "file_extension": ".py",
   "mimetype": "text/x-python",
   "name": "python",
   "nbconvert_exporter": "python",
   "pygments_lexer": "ipython3",
   "version": "3.11.9"
  }
 },
 "nbformat": 4,
 "nbformat_minor": 2
}
